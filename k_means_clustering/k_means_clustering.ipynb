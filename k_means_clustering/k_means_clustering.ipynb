{
 "cells": [
  {
   "cell_type": "code",
   "execution_count": 1,
   "metadata": {},
   "outputs": [],
   "source": [
    "from os.path import join\n",
    "import pandas as pd\n",
    "from sklearn.cluster import KMeans\n",
    "from matplotlib import pyplot as plt\n",
    "from sklearn.tree import DecisionTreeClassifier, plot_tree\n",
    "from sys import path\n",
    "path.insert(0, '..')\n",
    "from utils import format_decision_tree_plot\n",
    "from sklearn.metrics import silhouette_score, calinski_harabasz_score"
   ]
  },
  {
   "cell_type": "markdown",
   "metadata": {},
   "source": [
    "# Configurations"
   ]
  },
  {
   "cell_type": "code",
   "execution_count": 2,
   "metadata": {},
   "outputs": [],
   "source": [
    "SAVE_FIGURES = False\n",
    "PRINT_OUTPUT = False\n",
    "SEED = 42"
   ]
  },
  {
   "cell_type": "markdown",
   "metadata": {},
   "source": [
    "# Arranging Input Data"
   ]
  },
  {
   "cell_type": "code",
   "execution_count": 3,
   "metadata": {},
   "outputs": [],
   "source": [
    "onet_skills_unstacked = pd.read_csv(join('..', 'onet_skills_unstacked.csv'), index_col=['O*NET-SOC Code', 'Title'])"
   ]
  },
  {
   "cell_type": "markdown",
   "metadata": {},
   "source": [
    "# Finding Ideal Number of Clusters"
   ]
  },
  {
   "cell_type": "code",
   "execution_count": 6,
   "metadata": {},
   "outputs": [],
   "source": [
    "max_num_clusters_trying = 20\n",
    "\n",
    "losses = []\n",
    "for num_clusters in range(2, max_num_clusters_trying):\n",
    "    model = KMeans(\n",
    "        n_clusters=num_clusters,\n",
    "        init='k-means++',\n",
    "        n_init=10,\n",
    "        max_iter=300,\n",
    "        algorithm='lloyd',\n",
    "        random_state=SEED\n",
    "    ).fit(\n",
    "        onet_skills_unstacked.values\n",
    "    )\n",
    "    losses.append(model.inertia_)\n",
    "\n",
    "figure = plt.figure();\n",
    "axes = figure.add_subplot(111);\n",
    "axes.set_title('Elbow Plot');\n",
    "axes.set_xlabel('Number of Clusters');\n",
    "axes.set_xticks(ticks=range(len(losses)), labels=range(2, max_num_clusters_trying));\n",
    "axes.set_ylabel('Sum of Squared Distances of Points to their Centroid');\n",
    "\n",
    "axes.plot(losses, marker='o');\n",
    "\n",
    "if SAVE_FIGURES:\n",
    "    figure.savefig('onet_skills_elbow_plot.png')\n",
    "if PRINT_OUTPUT:\n",
    "    plt.show(figure)\n",
    "else:\n",
    "    plt.close(figure)"
   ]
  },
  {
   "cell_type": "markdown",
   "metadata": {},
   "source": [
    "My judgement is that around 10 clusters is where the plot seems to plateau."
   ]
  },
  {
   "cell_type": "markdown",
   "metadata": {},
   "source": [
    "# Clustering"
   ]
  },
  {
   "cell_type": "code",
   "execution_count": 7,
   "metadata": {},
   "outputs": [],
   "source": [
    "model = KMeans(\n",
    "    n_clusters=15,\n",
    "    init='k-means++',\n",
    "    n_init=10,\n",
    "    max_iter=300,\n",
    "    algorithm='lloyd',\n",
    "    random_state=SEED\n",
    ").fit(onet_skills_unstacked.values)"
   ]
  },
  {
   "cell_type": "code",
   "execution_count": 8,
   "metadata": {},
   "outputs": [],
   "source": [
    "onet_skills_unstacked['Cluster'] = model.labels_"
   ]
  },
  {
   "cell_type": "markdown",
   "metadata": {},
   "source": [
    "# Analyzing Clusters"
   ]
  },
  {
   "cell_type": "markdown",
   "metadata": {},
   "source": [
    "## Assessing Fit"
   ]
  },
  {
   "cell_type": "code",
   "execution_count": 9,
   "metadata": {},
   "outputs": [
    {
     "name": "stdout",
     "output_type": "stream",
     "text": [
      "Silhouette Score: 0.1499923737522422\n",
      "Calinski Harabasz Score: 174.8618735246516\n"
     ]
    }
   ],
   "source": [
    "print(f\"Silhouette Score: {silhouette_score(onet_skills_unstacked.drop(columns='Cluster'), onet_skills_unstacked['Cluster'])}\")\n",
    "print(f\"Calinski Harabasz Score: {calinski_harabasz_score(onet_skills_unstacked.drop(columns='Cluster'), onet_skills_unstacked['Cluster'])}\")"
   ]
  },
  {
   "cell_type": "markdown",
   "metadata": {},
   "source": [
    "## Visualizing with Decision Trees"
   ]
  },
  {
   "cell_type": "markdown",
   "metadata": {},
   "source": [
    "Idea of visualizing cluster models with decision trees taken from <url>https://docs.interpretable.ai/stable/examples/clustering/</url>"
   ]
  },
  {
   "cell_type": "code",
   "execution_count": 10,
   "metadata": {},
   "outputs": [],
   "source": [
    "decision_tree = DecisionTreeClassifier(\n",
    "    criterion='gini',\n",
    "    splitter='best',\n",
    "    max_depth=None,\n",
    "    random_state=SEED\n",
    ").fit(\n",
    "    X=onet_skills_unstacked.drop(columns='Cluster').values, \n",
    "    y=onet_skills_unstacked['Cluster'].values,\n",
    ")"
   ]
  },
  {
   "cell_type": "code",
   "execution_count": 11,
   "metadata": {},
   "outputs": [],
   "source": [
    "figure = plt.figure(figsize=(70, 12));\n",
    "axes = figure.add_subplot(111);\n",
    "\n",
    "plot_tree(\n",
    "    decision_tree, \n",
    "    feature_names=onet_skills_unstacked.drop(columns='Cluster').columns,\n",
    "    impurity=True,\n",
    "    fontsize=7, \n",
    "    rounded=True, \n",
    "    filled=True, \n",
    "    ax=axes\n",
    ");\n",
    "\n",
    "format_decision_tree_plot(axes)\n",
    "\n",
    "if SAVE_FIGURES:\n",
    "    figure.savefig('onet_skills_decision_tree.png')\n",
    "if PRINT_OUTPUT:\n",
    "    figure.show()\n",
    "else:\n",
    "    plt.close(figure)"
   ]
  },
  {
   "cell_type": "markdown",
   "metadata": {},
   "source": [
    "## Descriptive Statistics of the Clusters"
   ]
  },
  {
   "cell_type": "code",
   "execution_count": 12,
   "metadata": {},
   "outputs": [],
   "source": [
    "if SAVE_FIGURES:\n",
    "    excel_writer = pd.ExcelWriter('optimalKMeansClustering.xlsx')"
   ]
  },
  {
   "cell_type": "code",
   "execution_count": 13,
   "metadata": {},
   "outputs": [],
   "source": [
    "centroids = pd.DataFrame(\n",
    "    columns = onet_skills_unstacked.drop(columns='Cluster').columns, \n",
    "    index = pd.Series(range(model.n_clusters), name='Cluster'), \n",
    "    data=model.cluster_centers_\n",
    ")\n",
    "if SAVE_FIGURES:\n",
    "    centroids.to_excel(excel_writer, 'Cluster Centers')\n",
    "if PRINT_OUTPUT:\n",
    "    display(centroids.style)"
   ]
  },
  {
   "cell_type": "code",
   "execution_count": 15,
   "metadata": {},
   "outputs": [],
   "source": [
    "centroids_standardized = centroids.copy()\n",
    "for skill in centroids_standardized.columns:\n",
    "    centroids_standardized[skill] = \\\n",
    "        (centroids[skill] - centroids[skill].mean()) / centroids[skill].std()\n",
    "\n",
    "centroids_standardized_display = centroids_standardized.style.apply(\n",
    "    lambda col:\n",
    "        [\n",
    "            \"background-color:mediumseagreen;\" if z == col.max() \n",
    "            else \"background-color:lightgreen;\" if z > 0.75\n",
    "            else None \n",
    "            for z in col \n",
    "        ],\n",
    "    axis=0\n",
    ")\n",
    "\n",
    "if SAVE_FIGURES:\n",
    "    centroids_standardized_display.to_excel(excel_writer, 'Centroids Standardized')\n",
    "if PRINT_OUTPUT:\n",
    "    display(centroids_standardized_display)"
   ]
  },
  {
   "cell_type": "code",
   "execution_count": 16,
   "metadata": {},
   "outputs": [],
   "source": [
    "cluster_assignments_display = onet_skills_unstacked['Cluster'] \\\n",
    "    .sort_values() \\\n",
    "    .reset_index() \\\n",
    "    .set_index('Cluster')[['Title', 'O*NET-SOC Code']] \\\n",
    "    .style\n",
    "\n",
    "if SAVE_FIGURES:\n",
    "    cluster_assignments_display.to_excel(excel_writer, sheet_name='Cluster Assignments')\n",
    "if PRINT_OUTPUT:\n",
    "    display(cluster_assignments_display)"
   ]
  },
  {
   "cell_type": "code",
   "execution_count": 32,
   "metadata": {},
   "outputs": [],
   "source": [
    "if SAVE_FIGURES:\n",
    "    excel_writer.close()"
   ]
  }
 ],
 "metadata": {
  "kernelspec": {
   "display_name": "Python 3",
   "language": "python",
   "name": "python3"
  },
  "language_info": {
   "codemirror_mode": {
    "name": "ipython",
    "version": 3
   },
   "file_extension": ".py",
   "mimetype": "text/x-python",
   "name": "python",
   "nbconvert_exporter": "python",
   "pygments_lexer": "ipython3",
   "version": "3.10.11"
  }
 },
 "nbformat": 4,
 "nbformat_minor": 2
}
