{
 "cells": [
  {
   "cell_type": "code",
   "execution_count": 1,
   "metadata": {},
   "outputs": [],
   "source": [
    "import pandas as pd"
   ]
  },
  {
   "cell_type": "code",
   "execution_count": 2,
   "metadata": {},
   "outputs": [],
   "source": [
    "onet_skills = pd.read_excel('onet_skills.xlsx')\n",
    "\n",
    "# Unstack\n",
    "onet_skills_unstacked = onet_skills.loc[\n",
    "    onet_skills['Scale Name'] == 'Level', \n",
    "    ['O*NET-SOC Code', 'Title', 'Element Name', 'Data Value']\n",
    "].set_index(['O*NET-SOC Code', 'Title', 'Element Name']).unstack(2)\n",
    "onet_skills_unstacked.columns = [skill for _, skill in onet_skills_unstacked.columns] # flatten multi-layered columns"
   ]
  },
  {
   "cell_type": "code",
   "execution_count": 5,
   "metadata": {},
   "outputs": [],
   "source": [
    "onet_skills_unstacked.to_csv('onet_skills_unstacked.csv')"
   ]
  }
 ],
 "metadata": {
  "kernelspec": {
   "display_name": "Python 3",
   "language": "python",
   "name": "python3"
  },
  "language_info": {
   "codemirror_mode": {
    "name": "ipython",
    "version": 3
   },
   "file_extension": ".py",
   "mimetype": "text/x-python",
   "name": "python",
   "nbconvert_exporter": "python",
   "pygments_lexer": "ipython3",
   "version": "3.10.11"
  }
 },
 "nbformat": 4,
 "nbformat_minor": 2
}
